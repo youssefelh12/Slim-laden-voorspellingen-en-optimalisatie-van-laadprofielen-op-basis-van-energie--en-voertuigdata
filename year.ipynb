{
 "cells": [
  {
   "cell_type": "code",
   "execution_count": 12,
   "metadata": {},
   "outputs": [],
   "source": [
    "# Cell 1: Import necessary libraries and read data\n",
    "import pandas as pd\n",
    "import matplotlib.pyplot as plt\n",
    "import matplotlib.dates as mdates\n",
    "import seaborn as sns"
   ]
  },
  {
   "cell_type": "code",
   "execution_count": 2,
   "metadata": {},
   "outputs": [],
   "source": [
    "# Read data\n",
    "csv_path = \"Data/15min2024_consumption.csv\"\n",
    "data = pd.read_csv(csv_path, parse_dates=[\"Date\"], thousands=',')\n",
    "data = data.sort_values(by=\"Date\")"
   ]
  },
  {
   "cell_type": "code",
   "execution_count": 3,
   "metadata": {},
   "outputs": [],
   "source": [
    "# Calculate charger totals\n",
    "chargers_total = data[[\"Chargers (L1) [kW]\", \"Chargers (L2) [kW]\", \"Chargers (L3) [kW]\"]].sum(axis=1)\n",
    "chargers_achteraan_total = data[[\"Chargers achteraan (L1) [kW]\", \"Chargers achteraan (L2) [kW]\", \"Chargers achteraan (L3) [kW]\"]].sum(axis=1)\n",
    "data[\"Total Chargers Combined\"] = chargers_total + chargers_achteraan_total\n"
   ]
  },
  {
   "cell_type": "code",
   "execution_count": null,
   "metadata": {},
   "outputs": [],
   "source": [
    "# Cell 2: Display basic statistics\n",
    "print(\"Basic Statistics of the Dataset:\")\n",
    "print(data.describe())"
   ]
  },
  {
   "cell_type": "code",
   "execution_count": null,
   "metadata": {},
   "outputs": [],
   "source": [
    "# Cell 3: Line plot with individual charger types\n",
    "plt.figure(figsize=(12, 6))\n",
    "for col in [\"Chargers (L1) [kW]\", \"Chargers (L2) [kW]\", \"Chargers (L3) [kW]\"]:\n",
    "    plt.plot(data[\"Date\"], data[col], label=col)\n",
    "plt.title(\"Power Consumption by Charger Type (Front)\")\n",
    "plt.xlabel(\"Date\")\n",
    "plt.ylabel(\"Power (kW)\")\n",
    "plt.legend()\n",
    "plt.xticks(rotation=45)\n",
    "plt.tight_layout()\n",
    "plt.show()"
   ]
  },
  {
   "cell_type": "code",
   "execution_count": null,
   "metadata": {},
   "outputs": [],
   "source": [
    "# Cell 4: Box plot of power consumption\n",
    "plt.figure(figsize=(10, 6))\n",
    "charger_cols = [\"Chargers (L1) [kW]\", \"Chargers (L2) [kW]\", \"Chargers (L3) [kW]\",\n",
    "                \"Chargers achteraan (L1) [kW]\", \"Chargers achteraan (L2) [kW]\", \"Chargers achteraan (L3) [kW]\"]\n",
    "data[charger_cols].boxplot()\n",
    "plt.xticks(rotation=45)\n",
    "plt.title(\"Distribution of Power Consumption by Charger\")\n",
    "plt.ylabel(\"Power (kW)\")\n",
    "plt.tight_layout()\n",
    "plt.show()"
   ]
  },
  {
   "cell_type": "code",
   "execution_count": null,
   "metadata": {},
   "outputs": [],
   "source": [
    "# Cell 5: Heatmap of correlations\n",
    "plt.figure(figsize=(10, 8))\n",
    "correlation_matrix = data[charger_cols].corr()\n",
    "sns.heatmap(correlation_matrix, annot=True, cmap='coolwarm', center=0)\n",
    "plt.title(\"Correlation Heatmap of Charger Power Consumption\")\n",
    "plt.tight_layout()\n",
    "plt.show()"
   ]
  },
  {
   "cell_type": "code",
   "execution_count": null,
   "metadata": {},
   "outputs": [],
   "source": [
    "# Cell 6: Daily average consumption\n",
    "daily_avg = data.groupby(data['Date'].dt.date)['Total Chargers Combined'].mean()\n",
    "plt.figure(figsize=(10, 6))\n",
    "daily_avg.plot(kind='bar')\n",
    "plt.title(\"Daily Average Total Power Consumption\")\n",
    "plt.xlabel(\"Date\")\n",
    "plt.ylabel(\"Average Power (kW)\")\n",
    "plt.xticks(rotation=45)\n",
    "plt.tight_layout()\n",
    "plt.show()"
   ]
  },
  {
   "cell_type": "code",
   "execution_count": null,
   "metadata": {},
   "outputs": [],
   "source": [
    "# Cell 7: Pie chart of average consumption distribution\n",
    "avg_consumption = data[charger_cols].mean()\n",
    "plt.figure(figsize=(10, 8))\n",
    "plt.pie(avg_consumption, labels=avg_consumption.index, autopct='%1.1f%%')\n",
    "plt.title(\"Average Distribution of Power Consumption\")\n",
    "plt.axis('equal')\n",
    "plt.show()"
   ]
  },
  {
   "cell_type": "code",
   "execution_count": null,
   "metadata": {},
   "outputs": [],
   "source": [
    "# Calculate hourly average of combined charger consumption\n",
    "hourly_avg = data.groupby(data['Date'].dt.hour)['Total Chargers Combined'].mean()\n",
    "\n",
    "# Create the line plot\n",
    "plt.figure(figsize=(12, 6))\n",
    "plt.plot(hourly_avg.index, hourly_avg.values, marker='o', linewidth=2, markersize=8)\n",
    "plt.title('Average Charger Consumption by Hour of Day')\n",
    "plt.xlabel('Hour of Day')\n",
    "plt.ylabel('Average Power (kW)')\n",
    "plt.grid(True, linestyle='--', alpha=0.7)\n",
    "plt.xticks(range(0, 24))\n",
    "\n",
    "# Add value labels on the points\n",
    "for x, y in zip(hourly_avg.index, hourly_avg.values):\n",
    "    plt.annotate(f'{y:.1f}', \n",
    "                (x, y), \n",
    "                textcoords=\"offset points\", \n",
    "                xytext=(0,10), \n",
    "                ha='center')\n",
    "\n",
    "plt.tight_layout()\n",
    "plt.show()\n",
    "\n",
    "# Print the numerical values\n",
    "print(\"\\nHourly Average Consumption:\")\n",
    "print(hourly_avg.round(2))"
   ]
  },
  {
   "cell_type": "code",
   "execution_count": null,
   "metadata": {},
   "outputs": [],
   "source": [
    "# Add day of week column and calculate average consumption by day\n",
    "data['Day_of_Week'] = data['Date'].dt.day_name()\n",
    "# Ensure days are in correct order\n",
    "day_order = ['Monday', 'Tuesday', 'Wednesday', 'Thursday', 'Friday', 'Saturday', 'Sunday']\n",
    "daily_avg = data.groupby('Day_of_Week')['Total Chargers Combined'].mean()\n",
    "daily_avg = daily_avg.reindex(day_order)\n",
    "\n",
    "# Create the line plot\n",
    "plt.figure(figsize=(12, 6))\n",
    "plt.plot(daily_avg.index, daily_avg.values, marker='o', linewidth=2, markersize=8)\n",
    "plt.title('Average Charger Consumption by Day of Week')\n",
    "plt.xlabel('Day of Week')\n",
    "plt.ylabel('Average Power (kW)')\n",
    "plt.grid(True, linestyle='--', alpha=0.7)\n",
    "\n",
    "# Add value labels on the points\n",
    "for x, y in enumerate(daily_avg.values):\n",
    "    plt.annotate(f'{y:.1f}', \n",
    "                (x, y), \n",
    "                textcoords=\"offset points\", \n",
    "                xytext=(0,10), \n",
    "                ha='center')\n",
    "\n",
    "plt.xticks(range(len(day_order)), day_order, rotation=45)\n",
    "plt.tight_layout()\n",
    "plt.show()\n",
    "\n",
    "# Print the numerical values\n",
    "print(\"\\nDaily Average Consumption:\")\n",
    "print(daily_avg.round(2))\n",
    "\n",
    "# Additional analysis: Show hourly patterns for each day of week\n",
    "plt.figure(figsize=(15, 8))\n",
    "for day in day_order:\n",
    "    day_data = data[data['Day_of_Week'] == day]\n",
    "    hourly_avg = day_data.groupby(day_data['Date'].dt.hour)['Total Chargers Combined'].mean()\n",
    "    plt.plot(hourly_avg.index, hourly_avg.values, marker='o', label=day, alpha=0.7)\n",
    "\n",
    "plt.title('Average Hourly Consumption by Day of Week')\n",
    "plt.xlabel('Hour of Day')\n",
    "plt.ylabel('Average Power (kW)')\n",
    "plt.grid(True, linestyle='--', alpha=0.7)\n",
    "plt.legend(bbox_to_anchor=(1.05, 1), loc='upper left')\n",
    "plt.xticks(range(0, 24))\n",
    "plt.tight_layout()\n",
    "plt.show()"
   ]
  },
  {
   "cell_type": "code",
   "execution_count": null,
   "metadata": {},
   "outputs": [],
   "source": [
    "print(data.head())  # Check if data is loaded correctly\n",
    "print(data.columns)  # Ensure 'Date' column exists\n"
   ]
  },
  {
   "cell_type": "code",
   "execution_count": null,
   "metadata": {},
   "outputs": [],
   "source": []
  }
 ],
 "metadata": {
  "kernelspec": {
   "display_name": ".venv",
   "language": "python",
   "name": "python3"
  },
  "language_info": {
   "codemirror_mode": {
    "name": "ipython",
    "version": 3
   },
   "file_extension": ".py",
   "mimetype": "text/x-python",
   "name": "python",
   "nbconvert_exporter": "python",
   "pygments_lexer": "ipython3",
   "version": "3.12.0"
  }
 },
 "nbformat": 4,
 "nbformat_minor": 2
}
