{
 "cells": [
  {
   "cell_type": "code",
   "execution_count": null,
   "metadata": {},
   "outputs": [],
   "source": [
    "import pandas as pd\n",
    "import matplotlib.pyplot as plt\n",
    "from statsmodels.tsa.seasonal import seasonal_decompose\n",
    "\n",
    "# Read your data, parsing the 'Hour' column as datetime and using it as the index\n",
    "df = pd.read_csv('../api_data/hourly_api_data.csv', parse_dates=['Hour'], index_col='Hour')\n",
    "\n",
    "# Sort the DataFrame by the datetime index\n",
    "df = df.sort_index()\n",
    "\n",
    "# Filter the DataFrame to only include data between August and September 2023\n",
    "df_filtered = df.loc['2023-08-01':'2023-09-30']\n",
    "\n",
    "# Optionally, select a specific measurement.\n",
    "# For example, choose the first unique measurement in the filtered data.\n",
    "selected_measurement = df_filtered['Measurement'].unique()[0]\n",
    "print(f\"Selected Measurement: {selected_measurement}\")\n",
    "\n",
    "# Filter the data for the selected measurement and focus on the 'Consumption' column\n",
    "series_data = df_filtered[df_filtered['Measurement'] == selected_measurement]['Consumption']\n",
    "\n",
    "# Ensure the series is numeric\n",
    "series = pd.to_numeric(series_data, errors='coerce')\n",
    "\n",
    "# Decompose the series.\n",
    "# For hourly data with daily seasonality, set period=24.\n",
    "decomposition = seasonal_decompose(series.dropna(), model='additive', period=24)\n",
    "\n",
    "# Plot the decomposition\n",
    "fig = decomposition.plot()\n",
    "fig.set_size_inches(14, 10)\n",
    "plt.suptitle(f'Seasonal Decomposition of Consumption for {selected_measurement}\\nfrom 2023-08-01 to 2023-09-30', fontsize=16)\n",
    "plt.show()\n"
   ]
  },
  {
   "cell_type": "code",
   "execution_count": null,
   "metadata": {},
   "outputs": [],
   "source": [
    "import pandas as pd\n",
    "import matplotlib.pyplot as plt\n",
    "from statsmodels.tsa.seasonal import seasonal_decompose\n",
    "\n",
    "# Read your data, parsing the 'Hour' column as datetime and using it as the index\n",
    "df = pd.read_csv('../api_data/hourly_api_data.csv', parse_dates=['Hour'], index_col='Hour')\n",
    "\n",
    "# Sort the DataFrame by the datetime index\n",
    "df = df.sort_index()\n",
    "\n",
    "# Optionally, filter for a specific measurement.\n",
    "# Here we select the first unique measurement found in the 'Measurement' column.\n",
    "selected_measurement = df['Measurement'].unique()[0]\n",
    "print(f\"Selected Measurement: {selected_measurement}\")\n",
    "\n",
    "# Filter the data for the selected measurement and select the 'Consumption' column\n",
    "series_data = df[df['Measurement'] == selected_measurement]['Consumption']\n",
    "\n",
    "# Ensure the data is numeric\n",
    "series = pd.to_numeric(series_data, errors='coerce')\n",
    "\n",
    "# Decompose the series. For hourly data with daily seasonality, set period = 24.\n",
    "decomposition = seasonal_decompose(series.dropna(), model='additive', period=24)\n",
    "\n",
    "# Plot the decomposition\n",
    "fig = decomposition.plot()\n",
    "fig.set_size_inches(14, 10)\n",
    "plt.suptitle(f'Seasonal Decomposition of Consumption for {selected_measurement}', fontsize=16)\n",
    "plt.show()\n"
   ]
  },
  {
   "cell_type": "code",
   "execution_count": null,
   "metadata": {},
   "outputs": [],
   "source": []
  }
 ],
 "metadata": {
  "kernelspec": {
   "display_name": ".venv",
   "language": "python",
   "name": "python3"
  },
  "language_info": {
   "codemirror_mode": {
    "name": "ipython",
    "version": 3
   },
   "file_extension": ".py",
   "mimetype": "text/x-python",
   "name": "python",
   "nbconvert_exporter": "python",
   "pygments_lexer": "ipython3",
   "version": "3.11.0"
  }
 },
 "nbformat": 4,
 "nbformat_minor": 2
}
