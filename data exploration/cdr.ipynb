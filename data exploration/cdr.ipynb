{
 "cells": [
  {
   "cell_type": "code",
   "execution_count": 1,
   "metadata": {},
   "outputs": [
    {
     "name": "stdout",
     "output_type": "stream",
     "text": [
      "Column Names:\n",
      "['CDR_ID;Start_datetime;End_datetime;Duration;Volume;Charge_Point_Address;Charge_Point_ZIP;Charge_Point_City;Charge_Point_Country;Charge_Point_Type;Product_Type;Tariff_Type;Authentication_ID;Contract_ID;Meter_ID;OBIS_Code;Charge_Point_ID;Service_Provider_ID;Infra_Provider_ID;Calculated_Cost;Evse_ID;Connector_ID;Customer_Name;Customer_Cost_Center;Reimbursement_Cost;Reimbursement_Tariff_Type;Retail_Package_ID;Created;Customer_External_ID;Driver_External_ID;Meter_Start;Cpo_Contract_CountryParty;Emsp_Contract_CountryParty;Wholesale_Cost_With_Vat;Wholesale_Vat_Rate;Retail_Vat_Rate;Public_Retail_Cost_Without_Vat;Internal_Retail_Cost_Without_Vat;Cdr_Currency;Cpo_Currency;Emsp_Currency;Customer_Order_Number;Token_Visual_Number;Contactless_Session_Id']\n",
      "\n",
      "First five values:\n",
      "                                                                                                                                                                                                                                                       CDR_ID;Start_datetime;End_datetime;Duration;Volume;Charge_Point_Address;Charge_Point_ZIP;Charge_Point_City;Charge_Point_Country;Charge_Point_Type;Product_Type;Tariff_Type;Authentication_ID;Contract_ID;Meter_ID;OBIS_Code;Charge_Point_ID;Service_Provider_ID;Infra_Provider_ID;Calculated_Cost;Evse_ID;Connector_ID;Customer_Name;Customer_Cost_Center;Reimbursement_Cost;Reimbursement_Tariff_Type;Retail_Package_ID;Created;Customer_External_ID;Driver_External_ID;Meter_Start;Cpo_Contract_CountryParty;Emsp_Contract_CountryParty;Wholesale_Cost_With_Vat;Wholesale_Vat_Rate;Retail_Vat_Rate;Public_Retail_Cost_Without_Vat;Internal_Retail_Cost_Without_Vat;Cdr_Currency;Cpo_Currency;Emsp_Currency;Customer_Order_Number;Token_Visual_Number;Contactless_Session_Id\n",
      "191C8CABC63944FA8A59BF688171EBED;2025-01-01T01:... 8570;Anjerstraat  51;9308;Hofstade;BEL;;HV;abfc... 00;BE-GFX-EACE0405842-1;1;De Roeve Industrial I... 93;VREG;De Roeve;2025-01-01T11:52:37+00:00;BE04... 00;21 00;21                    00;0  00;0                   00;;EUR;EUR;;BE-GFX-Z0227395262;;                                                                                                                                                                                                                                                                                                                                                                                                                                                                                                                                                                                                                                                                                                                           \n",
      "B3FBF49D04DC4F00ADB64AA5440AA5C0;2025-01-01T02:... 4880;Paulusstraat  5 -2;8300;Knokke;BEL;;HV;306... 67;BE-GFX-EACE0473788-1;1;Govaerts Elektro;;12     67;no_roaming;Zeno_2.75;2025-01-01T09:45:13+00:... 33;21 00;21                    00;12 67;12                  67;;EUR;EUR;;BE-GFX-Z0233378245;;                                                                                                                                                                                                                                                                                                                                                                                                                                                                                                                                                                                                                                                                                                                           \n",
      "3C6DE8C9E1A848EDA34476556F1959E0;2025-01-01T03:... 4310;Bergstraat 2;9170;De Klinge;BEL;;HV;abfc78... 00;BE-GFX-ESMP_6221001426-1;1;Organi;;7            40;VREG;ORGANI;2025-01-01T14:57:45+00:00;BE0417... 00;21 00;21                    00;0  22;0                   22;;EUR;EUR;;BE-GFX-Z0176981513;;                                                                                                                                                                                                                                                                                                                                                                                                                                                                                                                                                                                                                                                                                                                           \n",
      "A8D682329CF64234AB7E1C4A5FB1BEF9;2025-01-01T04:... 8870;Leopoldslei 117;2930;Brasschaat;BEL;;HV;c5... 82;BE-GFX-EACE0257140-1;1;BONVENT BV;;9            53;VREG;zeno_2_euro;2025-01-01T13:32:32+00:00;B... 88;21 00;21                    00;9  82;9                   82;;EUR;EUR;;BE-GFX-Z0243634493;;                                                                                                                                                                                                                                                                                                                                                                                                                                                                                                                                                                                                                                                                                                                           \n",
      "8DC4DA4569FA4EDE93A7B526FAE14B58;2025-01-01T06:... 1800;Wingerdstraat 14;3000;Leuven;BEL;;;702af0e... 38;BE-GFX-E22BZ2825A-2;2;;;17                      38;no_roaming;;2025-01-01T06:50:13+00:00;;;4088... 03;21 00;;;;;EUR;;;CKJB7DW4F;; NaN   NaN                                                  NaN                                                                                                                                                                                                                                                                                                                                                                                                                                                                                                                                                                                                                                                                                                                           \n"
     ]
    }
   ],
   "source": [
    "import pandas as pd\n",
    "\n",
    "def print_csv_info(file_path):\n",
    "    # Read the CSV file\n",
    "    df = pd.read_csv(file_path)\n",
    "    \n",
    "    # Print all column names\n",
    "    print(\"Column Names:\")\n",
    "    print(df.columns.tolist())\n",
    "    \n",
    "    # Print the first five values of each column\n",
    "    print(\"\\nFirst five values:\")\n",
    "    print(df.head())\n",
    "\n",
    "# Example usage\n",
    "file_path = './Data/CDR_data.csv'  # Change this to your CSV file path\n",
    "print_csv_info(file_path)\n"
   ]
  }
 ],
 "metadata": {
  "kernelspec": {
   "display_name": ".venv",
   "language": "python",
   "name": "python3"
  },
  "language_info": {
   "codemirror_mode": {
    "name": "ipython",
    "version": 3
   },
   "file_extension": ".py",
   "mimetype": "text/x-python",
   "name": "python",
   "nbconvert_exporter": "python",
   "pygments_lexer": "ipython3",
   "version": "3.13.2"
  }
 },
 "nbformat": 4,
 "nbformat_minor": 2
}
